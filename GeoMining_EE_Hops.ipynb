{
  "nbformat": 4,
  "nbformat_minor": 0,
  "metadata": {
    "colab": {
      "name": "GeoMining_EE_Hops.ipynb",
      "provenance": [],
      "collapsed_sections": [],
      "authorship_tag": "ABX9TyPJqP5BpVSstBaMKwC0o/x4",
      "include_colab_link": true
    },
    "kernelspec": {
      "name": "python3",
      "display_name": "Python 3"
    },
    "language_info": {
      "name": "python"
    }
  },
  "cells": [
    {
      "cell_type": "markdown",
      "metadata": {
        "id": "view-in-github",
        "colab_type": "text"
      },
      "source": [
        "<a href=\"https://colab.research.google.com/github/neriiacopo/GeoMining-EE-Hops/blob/backup_v1/GeoMining_EE_Hops.ipynb\" target=\"_parent\"><img src=\"https://colab.research.google.com/assets/colab-badge.svg\" alt=\"Open In Colab\"/></a>"
      ]
    },
    {
      "cell_type": "markdown",
      "source": [
        "# Install and Import Libraries\n",
        "On the first run it can take few minutes \n",
        "\n",
        "follow the instructions to restart the Kernel is required"
      ],
      "metadata": {
        "id": "NEtimk1sx3X9"
      }
    },
    {
      "cell_type": "code",
      "source": [
        "pip install ghhops_server flask pandas pyproj flask-ngrok geemap"
      ],
      "metadata": {
        "id": "0fkd9JRrg0Z_"
      },
      "execution_count": null,
      "outputs": []
    },
    {
      "cell_type": "markdown",
      "source": [
        "# Authenticate to Earth Engine"
      ],
      "metadata": {
        "id": "9td4Xle6xymD"
      }
    },
    {
      "cell_type": "code",
      "execution_count": null,
      "metadata": {
        "id": "7NJ_b591gwNG"
      },
      "outputs": [],
      "source": [
        "from flask import Flask\n",
        "from flask_ngrok import run_with_ngrok\n",
        "import ghhops_server as hs\n",
        "import pandas as pd\n",
        "import numpy as np\n",
        "import ee\n",
        "import geemap\n",
        "from pyproj import CRS\n",
        "from pyproj.aoi import AreaOfInterest\n",
        "from pyproj.database import query_utm_crs_info\n",
        "from pyproj import Transformer"
      ]
    },
    {
      "cell_type": "markdown",
      "source": [
        "follow the link to access with your account to Earth Engine and copy and paste the authentication key"
      ],
      "metadata": {
        "id": "MfaEOk1Ly-eM"
      }
    },
    {
      "cell_type": "code",
      "source": [
        "ee.Authenticate()"
      ],
      "metadata": {
        "id": "NDKTF8NGjjt7"
      },
      "execution_count": null,
      "outputs": []
    },
    {
      "cell_type": "markdown",
      "source": [
        "# Run the Flask app to connect HOPS to EE"
      ],
      "metadata": {
        "id": "W7KmRy4FyCTm"
      }
    },
    {
      "cell_type": "code",
      "source": [
        "# register hops app as middleware\n",
        "app = Flask(__name__)\n",
        "run_with_ngrok(app)\n",
        "\n",
        "# register hops app as middleware\n",
        "hops: hs.HopsFlask = hs.Hops(app)\n",
        "\n",
        "\n",
        "# Initial earth engine\n",
        "ee.Initialize()\n",
        "\n",
        "@hops.component(\n",
        "    \"/ee_image\",\n",
        "    inputs=[       \n",
        "        hs.HopsString(\"layer\", \"layer\"),\n",
        "        hs.HopsString(\"bands\", \"bands\"),\n",
        "        hs.HopsNumber(\"scale\", \"scale\"),\n",
        "        hs.HopsPoint(\"bounding box\",\"bbox\",\"the bounding box representing the area of analysis. Note, provide it in the following order: min.Lon(X), max.Lon(X), min.Lat(Y), max.Lat(Y) aka LeftBottom, RightBottom, RightTop, LeftTop\", hs.HopsParamAccess.LIST)],\n",
        "    outputs=[\n",
        "        hs.HopsNumber(\"values\"),\n",
        "        hs.HopsNumber(\"W\"),\n",
        "        hs.HopsNumber(\"H\")\n",
        "    ],\n",
        ")\n",
        "\n",
        "def ee_image(layer,bands,scale,pts):\n",
        "\n",
        "    print(type(layer))\n",
        "    print(bands)\n",
        "    # Create a map to upload the layers to.\n",
        "    Map = geemap.Map()\n",
        "\n",
        "    # Add image layer\n",
        "    image = ee.Image(layer)\\\n",
        "        .select(bands) \n",
        "\n",
        "    layer_viz = {\n",
        "        'bands': [bands]\n",
        "    }\n",
        "    Map.addLayer(image, layer_viz, None, False, 1)\n",
        "\n",
        "    imageProjection = image.projection()\n",
        "\n",
        "    # Resample the image to assign custom scale\n",
        "    imageResampled = image \\\n",
        "        .reduceResolution(**{\n",
        "        'reducer': ee.Reducer.mean(),\n",
        "        'maxPixels': 5000\n",
        "        }) \\\n",
        "        .reproject(**{\n",
        "        'crs': imageProjection,\n",
        "        'scale': scale\n",
        "        })\n",
        "\n",
        "    pts_py = []\n",
        "    print(pts)\n",
        "    for p in pts: \n",
        "        pts_py.append([p.X, p.Y])\n",
        "\n",
        "    aoi = ee.Geometry.Polygon(\n",
        "        [[[pts_py[0][0], pts_py[0][1]],\n",
        "        [pts_py[1][0], pts_py[1][1]],\n",
        "        [pts_py[2][0], pts_py[2][1]],\n",
        "        [pts_py[3][0], pts_py[3][1]]]], None, False)\n",
        "\n",
        "    # rgb is a three dimension array (firt two being the data and third being relative to the band)\n",
        "    rgb_img = geemap.ee_to_numpy(imageResampled, default_value=0, region=aoi)\n",
        "    H = rgb_img.shape[0]\n",
        "    W = rgb_img.shape[1]\n",
        "    \n",
        "    return rgb_img.flatten().tolist(),W,H,;\n",
        "\n",
        "\n",
        "@hops.component(\n",
        "    \"/ee_imageCollection\",\n",
        "    inputs=[       \n",
        "        hs.HopsString(\"layer\", \"layer\"),\n",
        "        hs.HopsString(\"date\", \"date\", \"input date\", hs.HopsParamAccess.LIST)],\n",
        "    outputs=[\n",
        "        hs.HopsString(\"layer\")\n",
        "    ],\n",
        ")\n",
        "\n",
        "def ee_imageCollection(layer,date):    \n",
        "\n",
        "    # Create a map to upload the layers to.\n",
        "    Map = geemap.Map()\n",
        "\n",
        "    # Add image layer and filter on Dates\n",
        "    imageCollection = ee.ImageCollection(layer)\\\n",
        "                    .filterDate(date[0],date[1])\n",
        "\n",
        "    image = ee.Image(imageCollection.first())\n",
        "\n",
        "    return image.getInfo().get(\"id\");\n",
        "\n",
        "@hops.component(\n",
        "    \"/ee_nd\",\n",
        "    inputs=[       \n",
        "        hs.HopsString(\"layer\", \"layer\"),\n",
        "        hs.HopsString(\"band1\", \"band1\"),        \n",
        "        hs.HopsString(\"band2\", \"band2\"),\n",
        "        hs.HopsNumber(\"scale\", \"scale\"),\n",
        "        hs.HopsPoint(\"bounding box\",\"bbox\",\"the bounding box representing the area of analaysis. Note, provide it in the following order: min.Lon(X), max.Lon(X), min.Lat(Y), max.Lat(Y) aka LeftBottom, RightBottom, RightTop, LeftTop\", hs.HopsParamAccess.LIST)],\n",
        "    outputs=[\n",
        "        hs.HopsNumber(\"values\"),\n",
        "        hs.HopsNumber(\"W\"),\n",
        "        hs.HopsNumber(\"H\")\n",
        "    ],\n",
        ")\n",
        "\n",
        "def ee_ND(layer,band1,band2,scale,pts):\n",
        "\n",
        "    Map = geemap.Map()\n",
        "    # Add Earth Engine dataset\n",
        "    landsat = ee.Image(layer)\n",
        "\n",
        "    # Compute NDVI the easy way.\n",
        "    ndvi1999 = landsat.normalizedDifference([band1, band2])\n",
        "\n",
        "    # Add image layer\n",
        "    image = ndvi1999 \n",
        "\n",
        "    Map.addLayer(image, {}, None, False, 1)\n",
        "    imageProjection = image.projection()\n",
        "\n",
        "    # Resample the image to assign custom scale\n",
        "    imageResampled = image \\\n",
        "        .reduceResolution(**{\n",
        "        'reducer': ee.Reducer.mode(),\n",
        "        'maxPixels': 5000\n",
        "        }) \\\n",
        "        .reproject(**{\n",
        "        'crs': imageProjection,\n",
        "        'scale': scale\n",
        "        })\n",
        "\n",
        "    pts_py = []\n",
        "    print(pts)\n",
        "    for p in pts: \n",
        "        pts_py.append([p.X, p.Y])\n",
        "\n",
        "    aoi = ee.Geometry.Polygon(\n",
        "        [[[pts_py[0][0], pts_py[0][1]],\n",
        "        [pts_py[1][0], pts_py[1][1]],\n",
        "        [pts_py[2][0], pts_py[2][1]],\n",
        "        [pts_py[3][0], pts_py[3][1]]]], None, False)\n",
        "\n",
        "    # rgb is a three dimension array (firt two being the data and third being relative to the band)\n",
        "    rgb_img = geemap.ee_to_numpy(imageResampled, default_value=0, region=aoi)\n",
        "    H = rgb_img.shape[0]\n",
        "    W = rgb_img.shape[1]\n",
        "    \n",
        "    return rgb_img.flatten().tolist(),W,H,;\n",
        "\n",
        "\n",
        "@hops.component(\n",
        "    \"/reproject_UTM\",\n",
        "    name=\"reproject based on bounding box\",\n",
        "    description=\"reproject locations from 4326 to local UTM\",\n",
        "    \n",
        "    inputs=[\n",
        "        hs.HopsPoint(\"points\",\"pts\",\"the projected points\", hs.HopsParamAccess.LIST)\n",
        "    ],\n",
        "    outputs=[\n",
        "        hs.HopsString(\"points\",\"p\",\"the projected points\")\n",
        "    ]\n",
        ")\n",
        "\n",
        "def reproject_UTM(pts):\n",
        "\n",
        "    \n",
        "    # Extract the average location\n",
        "    xs = []\n",
        "    ys = []\n",
        "\n",
        "    for p in pts: \n",
        "        xs.append(p.X)\n",
        "        ys.append(p.Y)\n",
        "\n",
        "    p_mean = [np.asarray(xs).mean(),np.asarray(ys).mean()]\n",
        "    \n",
        "    utm_crs_list = query_utm_crs_info(\n",
        "        datum_name=\"WGS 84\",\n",
        "        area_of_interest=AreaOfInterest(\n",
        "            south_lat_degree=p_mean[1],\n",
        "            west_lon_degree=p_mean[0],\n",
        "            north_lat_degree=p_mean[1],\n",
        "            east_lon_degree=p_mean[0]\n",
        "        ),\n",
        "    )\n",
        "\n",
        "    # Project from 4326 to local UTM\n",
        "    WSG84_crs = CRS.from_epsg(4326)\n",
        "    utm_crs = CRS.from_epsg(utm_crs_list[0].code)\n",
        "    transformer = Transformer.from_crs(WSG84_crs, utm_crs, always_xy=True)\n",
        "\n",
        "    pts_UTM = []\n",
        "    \n",
        "    for p in pts:\n",
        "\n",
        "        # provide first X then Y -- Lon then Lat\n",
        "        p_UTM = transformer.transform(p.X,p.Y)\n",
        "        pts_UTM.append(str(\"{\" + str(p_UTM[0]) +\",\" + str(p_UTM[1]) + \",0}\"))\n",
        "\n",
        "    return pts_UTM;\n",
        "\n",
        "# Run app\n",
        "if __name__ == \"__main__\":\n",
        "    app.run()\n",
        "\n"
      ],
      "metadata": {
        "id": "IMhasSNDjwrG"
      },
      "execution_count": null,
      "outputs": []
    },
    {
      "cell_type": "markdown",
      "source": [
        "# Copy the URL to Grasshopper to live connect\n",
        "that is reported after:\n",
        "* Running on ..........................ngrok.io"
      ],
      "metadata": {
        "id": "RwnQvFQVyLZN"
      }
    }
  ]
}
